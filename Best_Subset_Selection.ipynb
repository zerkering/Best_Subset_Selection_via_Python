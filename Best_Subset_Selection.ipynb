{
 "cells": [
  {
   "cell_type": "code",
   "execution_count": null,
   "id": "4893057c",
   "metadata": {},
   "outputs": [],
   "source": [
    "#library\n",
    "import itertools\n",
    "import pandas as pd\n",
    "import numpy as np\n",
    "import statsmodels.api as sm\n",
    "\n",
    "\n",
    "# Combination generator to create numbers of needed subsets\n",
    "def combinations(r):\n",
    "    # 11 is number of predictors + 1\n",
    "    iterable = range(11)\n",
    "    pool = tuple(iterable)\n",
    "    n = len(pool)\n",
    "    return [list(pool[i] for i in indices)\n",
    "            for indices in itertools.combinations(range(n), r)]\n",
    "\n",
    "r2 = []\n",
    "best_r2 = []\n",
    "index_best_r2= []\n",
    "results =[]\n",
    "n = x.shape[0]\n",
    "\n",
    "# Finding the best model in each r subsets of model from total p models based on R square of each model (Best subset Selection)\n",
    "r =1\n",
    "X = df.drop(\"y\", axis = 1)\n",
    "X = sm.add_constant(X)\n",
    "\n",
    "# 11 is number of predictors + 1\n",
    "while r<=11:\n",
    "    combs = combinations(r)\n",
    "    for i in range(0, len(combs)):\n",
    "        model = sm.OLS(df['y'], X.iloc[:,combs[i]])\n",
    "        results.append(model.fit())\n",
    "        r2.append(results[len(results)-1].rsquared)\n",
    "        \n",
    "    # best r square for each combination    \n",
    "    best_r2.append(np.max(r2))\n",
    "    # position of best r square for each combination in r square list\n",
    "    index_best_r2.append(r2.index(best_r2[len(best_r2)-1]))\n",
    "    \n",
    "    r +=1\n"
   ]
  }
 ],
 "metadata": {
  "kernelspec": {
   "display_name": "Python 3 (ipykernel)",
   "language": "python",
   "name": "python3"
  },
  "language_info": {
   "codemirror_mode": {
    "name": "ipython",
    "version": 3
   },
   "file_extension": ".py",
   "mimetype": "text/x-python",
   "name": "python",
   "nbconvert_exporter": "python",
   "pygments_lexer": "ipython3",
   "version": "3.9.13"
  }
 },
 "nbformat": 4,
 "nbformat_minor": 5
}
